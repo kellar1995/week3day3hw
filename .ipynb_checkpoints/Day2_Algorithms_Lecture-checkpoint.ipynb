{
 "cells": [
  {
   "cell_type": "markdown",
   "metadata": {},
   "source": [
    "# Classic Algorithms"
   ]
  },
  {
   "cell_type": "markdown",
   "metadata": {},
   "source": [
    "## Tasks Today:\n",
    " \n",
    "1) <b>In-Place Algorithms</b> <br>\n",
    " &nbsp;&nbsp;&nbsp;&nbsp; a) Syntax <br>\n",
    " &nbsp;&nbsp;&nbsp;&nbsp; a) Out of Place Algorithm <br>\n",
    " &nbsp;&nbsp;&nbsp;&nbsp; b) In-Class Exercise #1 <br>\n",
    "2) <b>Two Pointers</b> <br>\n",
    "3) <b>Sorting Algorithms</b> <br>\n",
    "4) <b>Merge Sort</b> <br>\n",
    " &nbsp;&nbsp;&nbsp;&nbsp; a) Video on Algorithms <br>\n",
    " &nbsp;&nbsp;&nbsp;&nbsp; b) How it Works <br>\n",
    "5) <b>Exercises</b> <br>\n",
    " &nbsp;&nbsp;&nbsp;&nbsp; a) Exercise #1 - Reverse a List in Place Using an In-Place Algorithm <br>\n",
    " &nbsp;&nbsp;&nbsp;&nbsp; b) Exercise #2 - Find Distinct Words <br>\n",
    " &nbsp;&nbsp;&nbsp;&nbsp; c) Exercise #3 - Write a program to implement a Linear Search Algorithm. <br>"
   ]
  },
  {
   "cell_type": "markdown",
   "metadata": {},
   "source": [
    "## In-Place Algorithms"
   ]
  },
  {
   "cell_type": "markdown",
   "metadata": {},
   "source": [
    "#### Syntax"
   ]
  },
  {
   "cell_type": "code",
   "execution_count": 5,
   "metadata": {},
   "outputs": [
    {
     "data": {
      "text/plain": [
       "[15, 10, 5]"
      ]
     },
     "execution_count": 5,
     "metadata": {},
     "output_type": "execute_result"
    }
   ],
   "source": [
    "a_list=[5, 10, 15]\n",
    "\n",
    "def swap(lst):\n",
    "    temp = lst[0]\n",
    "    lst[0] = lst[2]\n",
    "    lst[2] = temp\n",
    "    return lst\n",
    "\n",
    "swap(a_list)"
   ]
  },
  {
   "cell_type": "code",
   "execution_count": 6,
   "metadata": {},
   "outputs": [
    {
     "data": {
      "text/plain": [
       "[3, 2, 1]"
      ]
     },
     "execution_count": 6,
     "metadata": {},
     "output_type": "execute_result"
    }
   ],
   "source": [
    "def swap2(lst):\n",
    "    lst[0], lst[2] = lst[2], lst[0]\n",
    "    return lst\n",
    "\n",
    "swap2([1,2,3])"
   ]
  },
  {
   "cell_type": "markdown",
   "metadata": {},
   "source": [
    "#### Out of Place Algorithm"
   ]
  },
  {
   "cell_type": "code",
   "execution_count": 7,
   "metadata": {},
   "outputs": [
    {
     "name": "stdout",
     "output_type": "stream",
     "text": [
      "None\n"
     ]
    }
   ],
   "source": [
    "def out_of_place(lst):\n",
    "    new_lst = []\n",
    "    for i in range(len(lst)-1, -1 , -1):\n",
    "        new_lst.append(lst[i])\n",
    "\n",
    "my_list = ['brian', 'tatyana', 'joel', 'jerry', 'fred']\n",
    "print(out_of_place(my_list))"
   ]
  },
  {
   "cell_type": "markdown",
   "metadata": {},
   "source": [
    "#### In-Class Exercise #1 <br>\n",
    "<p>Write a function that takes in four arguments (list, index1, index2, index3), and swaps those three positions in the list passed in.</p>"
   ]
  },
  {
   "cell_type": "code",
   "execution_count": 10,
   "metadata": {},
   "outputs": [
    {
     "name": "stdout",
     "output_type": "stream",
     "text": [
      "[4, 3, 10, 8, 4, 2, 6]\n"
     ]
    }
   ],
   "source": [
    "l_1 = [10, 4, 3, 8, 4, 2, 6]\n",
    "\n",
    "def swap3(lst, index1, index2, index3):\n",
    "    lst[index1], lst[index2], lst[index3] = lst[index2], lst[index3], lst[index1]\n",
    "\n",
    "swap3(l_1, 0, 1, 2)\n",
    "print(l_1)"
   ]
  },
  {
   "cell_type": "markdown",
   "metadata": {},
   "source": [
    "## Two Pointers"
   ]
  },
  {
   "cell_type": "markdown",
   "metadata": {},
   "source": [
    "#### Syntax"
   ]
  },
  {
   "cell_type": "code",
   "execution_count": 13,
   "metadata": {},
   "outputs": [
    {
     "name": "stdout",
     "output_type": "stream",
     "text": [
      "[10, 9, 8, 7, 6, 5, 4, 3, 2, 1]\n"
     ]
    }
   ],
   "source": [
    "my_new_lst = [1, 2, 3, 4, 5, 6, 7, 8, 9, 10]\n",
    "\n",
    "#list(left), list(right) = list(right), list(left)\n",
    "\n",
    "def two_point(lst):\n",
    "    #create pointers\n",
    "    left = 0\n",
    "    right = len(lst) - 1\n",
    "    while left < right:\n",
    "        lst[left], lst[right] = lst[right], lst[left]\n",
    "        left += 1\n",
    "        right -= 1\n",
    "    \n",
    "two_point(my_new_lst)\n",
    "print(my_new_lst)"
   ]
  },
  {
   "cell_type": "markdown",
   "metadata": {},
   "source": [
    "#### Video of Algorithms <br>\n",
    "<p>Watch the video about algorithms.</p>\n",
    "\n",
    "https://www.youtube.com/watch?v=Q9HjeFD62Uk\n",
    "\n",
    "https://www.youtube.com/watch?v=kPRA0W1kECg\n",
    "\n",
    "https://www.youtube.com/watch?v=ZZuD6iUe3Pc"
   ]
  },
  {
   "cell_type": "markdown",
   "metadata": {},
   "source": [
    "# Sorting Algorithms"
   ]
  },
  {
   "cell_type": "code",
   "execution_count": null,
   "metadata": {},
   "outputs": [],
   "source": []
  },
  {
   "cell_type": "markdown",
   "metadata": {},
   "source": [
    "#### Bubble Sort\n",
    "\n",
    "Worst Case: O(n^2) Time - O(1) Space"
   ]
  },
  {
   "cell_type": "code",
   "execution_count": 14,
   "metadata": {},
   "outputs": [
    {
     "data": {
      "text/plain": [
       "[1, 22, 33, 34, 44, 55, 66, 88, 100]"
      ]
     },
     "execution_count": 14,
     "metadata": {},
     "output_type": "execute_result"
    }
   ],
   "source": [
    "#best case O(n) - linear\n",
    "\n",
    "def bubble_sort(alist):\n",
    "    is_sorted = False\n",
    "    while not is_sorted:\n",
    "        is_sorted = True\n",
    "        for idx in range(len(alist)-1):\n",
    "            if alist[idx] > alist[idx+1]:\n",
    "                alist[idx], alist[idx+1] = alist[idx+1], alist[idx]\n",
    "                is_sorted = False\n",
    "    return alist\n",
    "\n",
    "bubble_sort([33, 22, 55, 88, 44, 1, 100, 34, 66])"
   ]
  },
  {
   "cell_type": "markdown",
   "metadata": {},
   "source": [
    "##### Insertion Sort\n",
    "\n",
    "Worst Case: O(n^2) time - O(1)space"
   ]
  },
  {
   "cell_type": "code",
   "execution_count": 16,
   "metadata": {},
   "outputs": [
    {
     "data": {
      "text/plain": [
       "[1, 22, 33, 34, 44, 55, 66, 88, 100]"
      ]
     },
     "execution_count": 16,
     "metadata": {},
     "output_type": "execute_result"
    }
   ],
   "source": [
    "def insertion(alist):\n",
    "#loop through second element to end of list (assume first is sorted)\n",
    "    for j in range(1, len(alist)):\n",
    "#continue swapping until list index 'j' is greater than alist[j-1] or you get to front of list\n",
    "        while j > 0 and alist[j] < alist[j-1]:\n",
    "        #swap\n",
    "            alist[j], alist[j-1] = alist[j-1], alist[j]\n",
    "            j -= 1\n",
    "    return alist\n",
    "\n",
    "insertion([33, 22, 55, 88, 44, 1, 100, 34, 66])"
   ]
  },
  {
   "cell_type": "markdown",
   "metadata": {},
   "source": [
    "## Merge Sort"
   ]
  },
  {
   "cell_type": "markdown",
   "metadata": {},
   "source": [
    "#### How it Works"
   ]
  },
  {
   "cell_type": "code",
   "execution_count": 22,
   "metadata": {},
   "outputs": [
    {
     "name": "stdout",
     "output_type": "stream",
     "text": [
      "splitting... [33, 22, 55, 88, 44, 1, 100, 34, 66]\n",
      "splitting... [33, 22, 55, 88]\n",
      "splitting... [33, 22]\n",
      "splitting... [33]\n",
      "Merging... [33]\n",
      "splitting... [22]\n",
      "Merging... [22]\n",
      "Merging... [22, 33]\n",
      "splitting... [55, 88]\n",
      "splitting... [55]\n",
      "Merging... [55]\n",
      "splitting... [88]\n",
      "Merging... [88]\n",
      "Merging... [55, 88]\n",
      "Merging... [22, 33, 55, 88]\n",
      "splitting... [44, 1, 100, 34, 66]\n",
      "splitting... [44, 1]\n",
      "splitting... [44]\n",
      "Merging... [44]\n",
      "splitting... [1]\n",
      "Merging... [1]\n",
      "Merging... [1, 44]\n",
      "splitting... [100, 34, 66]\n",
      "splitting... [100]\n",
      "Merging... [100]\n",
      "splitting... [34, 66]\n",
      "splitting... [34]\n",
      "Merging... [34]\n",
      "splitting... [66]\n",
      "Merging... [66]\n",
      "Merging... [34, 66]\n",
      "Merging... [34, 66, 100]\n",
      "Merging... [1, 34, 44, 66, 100]\n",
      "Merging... [1, 22, 33, 34, 44, 55, 66, 88, 100]\n"
     ]
    },
    {
     "data": {
      "text/plain": [
       "[1, 22, 33, 34, 44, 55, 66, 88, 100]"
      ]
     },
     "execution_count": 22,
     "metadata": {},
     "output_type": "execute_result"
    }
   ],
   "source": [
    "def merge(alist):\n",
    "    print('splitting...', alist)\n",
    "    \n",
    "    #divide array into equal parts(as much as possible)\n",
    "    if len(alist) > 1:\n",
    "        mid = len(alist) // 2\n",
    "        left_half = alist[:mid]\n",
    "        right_half = alist[mid:]\n",
    "        \n",
    "        #recursively call merge_sort on left and right halves\n",
    "        merge(left_half)\n",
    "        merge(right_half)\n",
    "        \n",
    "        #merge splits when done\n",
    "        #index pointers\n",
    "        i=0 #left half\n",
    "        j=0 #right half\n",
    "        k=0 #main list\n",
    "        \n",
    "        while i < len(left_half) and j < len(right_half):\n",
    "            if left_half[i] < right_half[j]:\n",
    "                alist[k] = left_half[i]\n",
    "                i += 1\n",
    "            else:\n",
    "                alist[k] = right_half[j]\n",
    "                j += 1\n",
    "            k += 1\n",
    "        while i < len(left_half):\n",
    "            alist[k] = left_half[i]\n",
    "            i+= 1\n",
    "            k+= 1\n",
    "        while j < len(right_half):\n",
    "            alist[k] = right_half[j]\n",
    "            j+=1\n",
    "            k+=1\n",
    "            \n",
    "            \n",
    "        \n",
    "        \n",
    "    print(\"Merging...\", alist)  \n",
    "    return alist\n",
    "\n",
    "merge([33, 22, 55, 88, 44, 1, 100, 34, 66])"
   ]
  },
  {
   "cell_type": "markdown",
   "metadata": {},
   "source": [
    "# Binary Search\n",
    "\n",
    "The Binary Search algorithm works by finding the number in the middle of a given array and comparing it to the target. Given that the array is sorted\n",
    "\n",
    "* The worst case run time for this algorithm is `O(log(n))`"
   ]
  },
  {
   "cell_type": "code",
   "execution_count": 34,
   "metadata": {},
   "outputs": [
    {
     "data": {
      "text/plain": [
       "'the index of 99 is 7!'"
      ]
     },
     "execution_count": 34,
     "metadata": {},
     "output_type": "execute_result"
    }
   ],
   "source": [
    "def binary(alist, target):\n",
    "    low = 0\n",
    "    high = len(alist)-1\n",
    "    while low < high:\n",
    "        middle = (low + high) // 2\n",
    "        if alist[middle] == target:\n",
    "            return f'the index of {target} is {middle}!'\n",
    "        elif alist[middle] > target:\n",
    "            high = middle -1\n",
    "        else:\n",
    "            low = middle +1\n",
    "    return -1\n",
    "\n",
    "binary([22, 33, 44, 55, 66, 77, 88, 99, 100], 99)"
   ]
  },
  {
   "cell_type": "markdown",
   "metadata": {},
   "source": [
    "# Exercises"
   ]
  },
  {
   "cell_type": "markdown",
   "metadata": {},
   "source": [
    "### Exercise #1 <br>\n",
    "<p>Reverse the list below in-place using an in-place algorithm.<br>For extra credit: Reverse the strings at the same time.</p>"
   ]
  },
  {
   "cell_type": "code",
   "execution_count": null,
   "metadata": {},
   "outputs": [],
   "source": [
    "words = ['this' , 'is', 'a', 'sentence', '.']\n"
   ]
  },
  {
   "cell_type": "markdown",
   "metadata": {},
   "source": [
    "### Exercise #2 <br>\n",
    "<p>Create a function that counts how many distinct words are in the string below, then outputs a dictionary with the words as the key and the value as the amount of times that word appears in the string.<br>Should output:<br>{'a': 5,<br>\n",
    " 'abstract': 1,<br>\n",
    " 'an': 3,<br>\n",
    " 'array': 2, ... etc...</p>"
   ]
  },
  {
   "cell_type": "code",
   "execution_count": null,
   "metadata": {},
   "outputs": [],
   "source": [
    "a_text = 'In computing, a hash table hash map is a data structure which implements an associative array abstract data type, a structure that can map keys to values. A hash table uses a hash function to compute an index into an array of buckets or slots from which the desired value can be found'\n",
    "\n"
   ]
  },
  {
   "cell_type": "markdown",
   "metadata": {},
   "source": [
    "## Exercise #3\n",
    "\n",
    "Write a program to implement a Linear Search Algorithm. Also in a comment, write the Time Complexity of the following algorithm.\n",
    "\n",
    "#### Hint: Linear Searching will require searching a list for a given number. "
   ]
  },
  {
   "cell_type": "code",
   "execution_count": null,
   "metadata": {},
   "outputs": [],
   "source": []
  }
 ],
 "metadata": {
  "kernelspec": {
   "display_name": "Python 3",
   "language": "python",
   "name": "python3"
  },
  "language_info": {
   "codemirror_mode": {
    "name": "ipython",
    "version": 3
   },
   "file_extension": ".py",
   "mimetype": "text/x-python",
   "name": "python",
   "nbconvert_exporter": "python",
   "pygments_lexer": "ipython3",
   "version": "3.8.8"
  }
 },
 "nbformat": 4,
 "nbformat_minor": 2
}
